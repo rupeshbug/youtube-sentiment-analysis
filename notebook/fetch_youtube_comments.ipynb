{
 "cells": [
  {
   "cell_type": "code",
   "execution_count": 1,
   "metadata": {},
   "outputs": [],
   "source": [
    "import os\n",
    "from googleapiclient.discovery import build\n",
    "from dotenv import load_dotenv"
   ]
  },
  {
   "cell_type": "code",
   "execution_count": 2,
   "metadata": {},
   "outputs": [
    {
     "data": {
      "text/plain": [
       "True"
      ]
     },
     "execution_count": 2,
     "metadata": {},
     "output_type": "execute_result"
    }
   ],
   "source": [
    "load_dotenv()"
   ]
  },
  {
   "cell_type": "code",
   "execution_count": 3,
   "metadata": {},
   "outputs": [],
   "source": [
    "API_KEY = os.getenv(\"YOUTUBE_API_KEY\")"
   ]
  },
  {
   "cell_type": "code",
   "execution_count": 4,
   "metadata": {},
   "outputs": [],
   "source": [
    "def fetch_youtube_comments(video_id):\n",
    "    youtube = build(\"youtube\", \"v3\", developerKey = API_KEY)\n",
    "    \n",
    "    comments = []\n",
    "    request = youtube.commentThreads().list(\n",
    "        part=\"snippet\",\n",
    "        videoId=video_id,\n",
    "        textFormat=\"plainText\",\n",
    "        maxResults=100 \n",
    "    )\n",
    "    \n",
    "    response = request.execute()\n",
    "    \n",
    "    for item in response[\"items\"]:\n",
    "        comment = item[\"snippet\"][\"topLevelComment\"][\"snippet\"][\"textDisplay\"]\n",
    "        comments.append(comment)\n",
    "    \n",
    "    return comments"
   ]
  },
  {
   "cell_type": "code",
   "execution_count": 5,
   "metadata": {},
   "outputs": [],
   "source": [
    "video_id = \"Y-M3CrPzI5A\"  \n",
    "comments = fetch_youtube_comments(video_id)"
   ]
  },
  {
   "cell_type": "code",
   "execution_count": 6,
   "metadata": {},
   "outputs": [
    {
     "name": "stdout",
     "output_type": "stream",
     "text": [
      "1. I love this episode\n",
      "2. Guys, guys.\n",
      "3. Such a great cast🤍💍\n",
      "4. Hilarious, even though Matthew Perry's playing the straight man for once. But he was a great actor in general, not just a great comedian.\n",
      "5. 2 mood swing in one scene, amazing!\n",
      "6. Monica Dan Chandler Menikah Kedua\n",
      "7. Ross: Man, this is the most beautiful engagement ring ever.\n",
      "Rachel: Well, you should know, you've bought like a billion of em.\n",
      "Ross: Yyyeah, you didn't get one.\n",
      "8. I love how Monica and Chandler happy ending romance. I believe Matthew Perry and Courtney cox could have been too.\n",
      "9. The ring was beautiful unique ever.\n",
      "10. Matthew looks very unwell here...people really need to understand that as much as this show is loved, it is also incredibly filled with pain behind all the comedy.  Read his book and you'll understand just how much...\n",
      "11. Heheheyyyyy…whattt?!!\n",
      "12. RIP Matthew😭😭 He made us laugh and smile, such a legend. Fly high🕊🕊🕊🕊\n",
      "13. RACHEL IN THIS OUTFIT IS SOOOO SOOO SOOOOOO GORGEOUS\n",
      "14. Why exactly were Joey and Ross mad at Chandler at the start?\n",
      "15. Jennifer's breezy delivery of \"one and a half carat easy\" is underrated lmao\n",
      "16. I think chandler making the right decision to tell pheobe instead of Ross and joey she is a vile and knows what to get\n",
      "17. The reactions to the announcement are so sweet, as is Chandler's sort of self-consciousness when announcing.\n",
      "18. I woulda said yes in a heartbeat ❤❤❤\n",
      "19. Water under a Bridge :)\n",
      "20. We want friends like this who get jealous if we don't tell them our most imp things first\n",
      "21. OMG Rachel is so hot...\n",
      "22. Just the Rachel and Chandler hug I so Genuine now.  Just hits different, wow 😢.\n",
      "23. 😊😊😊😊😊😊😊😊😊😊😊\n",
      "24. Rip Matthew\n",
      "25. \"You guys are gonna be so happy!\" is such a sweet response. ❤\n",
      "26. I love this part it so romantic 😍🤵‍♂️👰‍♀️♥️💘💟\n",
      "27. Where is all the tissue 🤣🤣🤣🤣🤣\n",
      "28. 😂😂😂🎉perfect 🥰 💞 luv u matty\n",
      "29. Its so cute the way chandler says \"guys\" at the end .RIP MATHEW ❤\n",
      "30. I've just finished listening ro Matthew's audiobook, and as much as I want to be sad, and I was. I don't think he would want people to feel sad for him in his death.  I know he didn't want Chandler to be his legacy, because he wanted to be remembered for helping people...But I think he did not realise that by being Chandler he did help people, he made them laugh.. even.. or maybe most especially when they didn't feel like laughing.  He helped them escape for 20 minutes, which I think is pretty amazing.  Though, I can't help but feel sad that he didn't have the time to do all the things he wanted to do, but Matthew.... you inspired so many generations in so many different ways and not many people have that as their legacy.\n",
      "31. Rip its nice to see all you're friends co stars say how much they miss you even though they shunned you during your addiction good job guys\n",
      "32. 1:31 What's going on with Chandler here? 😅😂😂😂\n",
      "33. We're gonna be friends again 😅😅😅\n",
      "34. I actually feel bad for Janice 😂\n",
      "35. I cannot believe matthew is gone. It still breaks my heart whenever I remember or see him. I’ll forever miss you, Matthew Perry! you’re always gonna be in our hearts and I hope you know that you are loved and you made so many people happy. We will continue to honor the legacy you left behind. You’re a fucking legend, man! May you rest in heaven🤍\n",
      "36. We will forever miss you..mat/chandler..RIP\n",
      "37. The cast should have freeze Perry out till he got his act together \n",
      "Apparently they would shoot a season from sept to March then Perry would go get completely wasted either by drinking himself in a stupor or by taking drugs …..\n",
      "38. Dear Reader,\n",
      "I want you to know today that Jesus Christ loves you.\n",
      "The fact is, He loves you so much that He made the ultimate sacrifice for you! You see, God is a perfect, just God who will not tolerate sinful people coming into heaven, and the problem is that we are sinful by nature. No matter how much good we do, it will never be enough to meet God's perfect standard. The good Lord knew this, and He loved us so much that He came down to earth, lived a sinless life, and died to take the sin of the world.\n",
      " Romans 6:23 \"For the wages of sin is death, but the gift of God is eternal life in Christ Jesus our Lord.\"\n",
      "All you have to do is ask the Lord to forgive your sin and tell Him that you accept His gift of salvation as the ONLY way to eternal life.\n",
      "Please consider salvation today; you never know when your time may be up. Remember, Jesus loves you! I hope to meet you in heaven one day!\n",
      "39. 🕯️❤🌹🕊️Matthew Perry💫\n",
      "40. Everything hits hard since Matthew passed away. RIP Mr. Bing\n",
      "41. Man this hits differently now 💔\n",
      "42. Always remembered RIP Matthew\n",
      "43. These three best friends are so real and loving. Best friendship \"till\" wedding which will seperate all.\n",
      "44. i love the way matthew delivers the line \"i'm gonna ask monica to marry me'' to rachel. he sounds like he's genuinely trying to but can barely contain his excitement about his engagement.\n",
      "45. “One and a half carat easy” ..😂😂 classic Rach 😄\n",
      "46. Season 6 Last two episodes 🥹\n",
      "47. The fact that the show portrayed Pheobe being there for Chandler being ironic, just like lisa was always there for Matthew perry until the end.\n",
      "\n",
      "RIP Matty, we will try to keep it down.\n",
      "48. Friends will not be same without you\n",
      "49. Ohhhh chandler I miss u ❤\n",
      "50. *Matty*\n",
      "*Alc0h0l fat*\n",
      "*Pills skinny*\n",
      "*a lot of pills: skinny with goatee*\n",
      "51. Matty ❤❤❤❤❤\n",
      "52. Melman\n",
      "53. RIP Matthew. You will be missed forever❤fly high my man 🕊️you made this show\n",
      "54. 6 people i like them\n",
      "55. Where is all the tissue😂😂😂\n",
      "56. damn this is deep right now\n",
      "57. ❤😢This series will remain my favorite..\n",
      "58. heartbroken seeing him on the screen :(\n",
      "59. Sad he never got married in real life :(\n",
      "Poor Matty\n",
      "60. RIP Matthew 😭😭\n",
      "61. A show that once gave me so much happiness, now I can’t help but feel sad about Matthew while watching this 🥺\n",
      "62. I can’t believe you are not alive anymore….will miss you chandler\n",
      "63. Could I BE any sadder! 😢\n",
      "64. this show is actually funny... all these years i thought it was unfunny\n",
      "65. love these guys so much. RIP Mathew\n",
      "66. RIP Matthew Perry 😢😢\n",
      "67. RIP 😢\n",
      "68. I want friendship like this in my life. Everyone deserves friends like this in their lives\n",
      "69. Thanks Mathew for making us laugh you'll never be forgotten\n",
      "RIP legend\n",
      "70. I used to laugh watching friends. Now I feel like crying watching friends. We love you chandler\n",
      "71. Thank you for all the beautiful and wonderful memories you created.  You will never be forgotten.\n",
      "RIP Matty\n",
      "72. Mathew Perry! You gave us hopes on shitty days! I remember going back to friends again and again in tough time just to feel better! Rest in Peace ! You will live thousands of years in the hearts of people! Friends is Grandma's Comfort Food for soul!\n",
      "73. It's different to watch these videos now that Matthew is gone 😢\n",
      "74. You’ll always be My chandler Bing♥️🤍 Rest in peace Matthew Perry🕊️\n",
      "75. Fly high, Matthew Perry x\n",
      "76. RIP MATTHEW PERRY\n",
      "77. Rip\n",
      "78. Chandler 😢😢\n",
      "79. RIP 🙏🏻🙏🏻🙏🏻🙏🏻🙏🏻🙏🏻🙏🏻 Mathew I so so so sorry and sad 😓😓😓😓😓😓😓😓😓😓😓\n",
      "80. Rip Chandler 💖\n",
      "81. Rest in peace Mr Matthew Perry\n",
      "82. The emotion while watching friends will never ever be the same same again...........RIP.. Mathew Perry ....❤️😭😢\n",
      "83. 😢\n",
      "84. RIP Chandler.You will be missed.\n",
      "85. It is sad to watch Friends after his death :(\n",
      "86. RIP\n",
      "87. RIP Matthew, 人生只若初见\n",
      "88. Rip😭\n",
      "89. RIP Matthew Perry aka Chandler Bing. Know that you will be missed by billions. ❤\n",
      "90. Who is loved by so many can never die .\n",
      "91. RIP CHANDLER BING . YOU WILL ALWAYS BE MISSED. STAY BLESSED MATTHEW PARRY\n",
      "92. My favorite actor ❤️ is Matthew perry.which he just passed away Rip Matthew 🙏\n",
      "93. Rip Chandler😢\n",
      "94. Rip Mathew\n",
      "95. You will live in our memories forever , Chandler! May you rest in heaven!\n",
      "96. Rest Easy Chandler. 🤍\n",
      "97. R.I.P. Matthew\n",
      "98. RIP Matthew 💔\n",
      "99. God this is so sad\n",
      "100. R.I.P Matthew Perry, forever be Chandler Binh\n"
     ]
    }
   ],
   "source": [
    "for idx, comment in enumerate(comments, 1):\n",
    "    print(f\"{idx}. {comment}\")"
   ]
  },
  {
   "cell_type": "code",
   "execution_count": null,
   "metadata": {},
   "outputs": [],
   "source": []
  }
 ],
 "metadata": {
  "kernelspec": {
   "display_name": "Python 3",
   "language": "python",
   "name": "python3"
  },
  "language_info": {
   "codemirror_mode": {
    "name": "ipython",
    "version": 3
   },
   "file_extension": ".py",
   "mimetype": "text/x-python",
   "name": "python",
   "nbconvert_exporter": "python",
   "pygments_lexer": "ipython3",
   "version": "3.12.0"
  }
 },
 "nbformat": 4,
 "nbformat_minor": 2
}
