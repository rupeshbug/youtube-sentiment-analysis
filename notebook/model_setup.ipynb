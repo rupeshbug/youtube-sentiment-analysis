{
 "cells": [
  {
   "cell_type": "code",
   "execution_count": 2,
   "metadata": {},
   "outputs": [],
   "source": [
    "import os\n",
    "from groq import Groq\n",
    "from dotenv import load_dotenv"
   ]
  },
  {
   "cell_type": "code",
   "execution_count": 3,
   "metadata": {},
   "outputs": [
    {
     "data": {
      "text/plain": [
       "True"
      ]
     },
     "execution_count": 3,
     "metadata": {},
     "output_type": "execute_result"
    }
   ],
   "source": [
    "load_dotenv()"
   ]
  },
  {
   "cell_type": "code",
   "execution_count": 4,
   "metadata": {},
   "outputs": [],
   "source": [
    "client = Groq(\n",
    "    api_key = os.environ.get(\"GROQ_API_KEY\")\n",
    ")"
   ]
  },
  {
   "cell_type": "code",
   "execution_count": 5,
   "metadata": {},
   "outputs": [],
   "source": [
    "model_name = \"llama-3.3-70b-versatile\""
   ]
  },
  {
   "cell_type": "code",
   "execution_count": 6,
   "metadata": {},
   "outputs": [],
   "source": [
    "chat_completion = client.chat.completions.create(\n",
    "    messages = [\n",
    "        {\n",
    "            \"role\": \"user\",\n",
    "            \"content\": \"define sentiment analysis in a sentence.\"\n",
    "        }\n",
    "    ],\n",
    "    model = model_name\n",
    ")"
   ]
  },
  {
   "cell_type": "code",
   "execution_count": 7,
   "metadata": {},
   "outputs": [
    {
     "name": "stdout",
     "output_type": "stream",
     "text": [
      "Sentiment analysis is a natural language processing technique used to determine the emotional tone or attitude conveyed by a piece of text, such as a review, post, or comment, to classify it as positive, negative, or neutral.\n"
     ]
    }
   ],
   "source": [
    "print(chat_completion.choices[0].message.content)"
   ]
  },
  {
   "cell_type": "code",
   "execution_count": 41,
   "metadata": {},
   "outputs": [],
   "source": [
    "messages = [\n",
    "    {\n",
    "        \"role\": \"system\",\n",
    "        \"content\": \"You are an AI that analyzes the sentiment of YouTube comments. Your task is to classify sentiments as Positive, Negative, or Neutral and identify the top sentiment-related phrases or words (e.g., 'time waste', 'very good', 'not helpful').\",\n",
    "    },\n",
    "    {\n",
    "        \"role\": \"user\",\n",
    "        \"content\": \"\"\"Analyze the following comments and classify the sentiment as Positive, Neutral, or Negative.\n",
    "        Then, return:\n",
    "        1. The count of Positive, Neutral, and Negative sentiments.\n",
    "        2. The **10 most frequently used sentiment-related phrases** that strongly indicate sentiment (e.g., 'time waste', 'very good', 'not helpful').\n",
    "\n",
    "        Comments:\n",
    "        1. \"This movie is amazing! I love it.\"\n",
    "        2. \"Not good at all. A complete waste of time.\"\n",
    "        3. \"The acting was okay, but the story was boring.\"\n",
    "        4. \"Absolutely fantastic! One of the best!\"\n",
    "        5. \"I expected better. Not impressed.\"\n",
    "\n",
    "        Format the response as a JSON object like this:\n",
    "        {\n",
    "           \"sentiment_counts\": {\n",
    "               \"positive\": X,\n",
    "               \"neutral\": Y,\n",
    "               \"negative\": Z\n",
    "           },\n",
    "           \"top_sentiment_phrases\": [\n",
    "               \"time waste\",\n",
    "               \"very good\",\n",
    "               \"not helpful\",\n",
    "               ...\n",
    "           ]\n",
    "        }\n",
    "        \"\"\"\n",
    "    }\n",
    "]\n"
   ]
  },
  {
   "cell_type": "code",
   "execution_count": 42,
   "metadata": {},
   "outputs": [],
   "source": [
    "sentiment = client.chat.completions.create(\n",
    "    messages = messages,\n",
    "    model = \"llama-3.3-70b-versatile\",\n",
    "    temperature = 0.1,\n",
    "    response_format={\"type\": \"json_object\"},\n",
    ")"
   ]
  },
  {
   "cell_type": "code",
   "execution_count": 43,
   "metadata": {},
   "outputs": [
    {
     "data": {
      "text/plain": [
       "'{\\n   \"sentiment_counts\": {\\n       \"positive\": 2,\\n       \"neutral\": 1,\\n       \"negative\": 2\\n   },\\n   \"top_sentiment_phrases\": [\\n       \"amazing\",\\n       \"complete waste of time\",\\n       \"not good\",\\n       \"fantastic\",\\n       \"not impressed\",\\n       \"love it\",\\n       \"one of the best\",\\n       \"not helpful\",\\n       \"okay\",\\n       \"boring\"\\n   ]\\n}'"
      ]
     },
     "execution_count": 43,
     "metadata": {},
     "output_type": "execute_result"
    }
   ],
   "source": [
    "sentiment.choices[0].message.content"
   ]
  },
  {
   "cell_type": "code",
   "execution_count": 44,
   "metadata": {},
   "outputs": [
    {
     "name": "stdout",
     "output_type": "stream",
     "text": [
      "Sentiment Counts: {'positive': 2, 'neutral': 1, 'negative': 2}\n",
      "Top Sentiment Phrases: ['amazing', 'complete waste of time', 'not good', 'fantastic', 'not impressed', 'love it', 'one of the best', 'not helpful', 'okay', 'boring']\n"
     ]
    }
   ],
   "source": [
    "import json\n",
    "response_dict = json.loads(sentiment.choices[0].message.content)\n",
    "\n",
    "sentiment_counts = response_dict[\"sentiment_counts\"]\n",
    "top_sentiment_phrases = response_dict[\"top_sentiment_phrases\"]\n",
    "\n",
    "print(\"Sentiment Counts:\", sentiment_counts)\n",
    "print(\"Top Sentiment Phrases:\", top_sentiment_phrases)\n"
   ]
  },
  {
   "cell_type": "code",
   "execution_count": null,
   "metadata": {},
   "outputs": [],
   "source": []
  }
 ],
 "metadata": {
  "kernelspec": {
   "display_name": "Python 3",
   "language": "python",
   "name": "python3"
  },
  "language_info": {
   "codemirror_mode": {
    "name": "ipython",
    "version": 3
   },
   "file_extension": ".py",
   "mimetype": "text/x-python",
   "name": "python",
   "nbconvert_exporter": "python",
   "pygments_lexer": "ipython3",
   "version": "3.12.0"
  }
 },
 "nbformat": 4,
 "nbformat_minor": 2
}
