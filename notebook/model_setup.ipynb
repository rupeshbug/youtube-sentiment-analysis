{
 "cells": [
  {
   "cell_type": "code",
   "execution_count": 2,
   "metadata": {},
   "outputs": [],
   "source": [
    "import os\n",
    "from groq import Groq\n",
    "from dotenv import load_dotenv"
   ]
  },
  {
   "cell_type": "code",
   "execution_count": 3,
   "metadata": {},
   "outputs": [
    {
     "data": {
      "text/plain": [
       "True"
      ]
     },
     "execution_count": 3,
     "metadata": {},
     "output_type": "execute_result"
    }
   ],
   "source": [
    "load_dotenv()"
   ]
  },
  {
   "cell_type": "code",
   "execution_count": 4,
   "metadata": {},
   "outputs": [],
   "source": [
    "client = Groq(\n",
    "    api_key = os.environ.get(\"GROQ_API_KEY\")\n",
    ")"
   ]
  },
  {
   "cell_type": "code",
   "execution_count": 5,
   "metadata": {},
   "outputs": [],
   "source": [
    "model_name = \"llama-3.3-70b-versatile\""
   ]
  },
  {
   "cell_type": "code",
   "execution_count": 6,
   "metadata": {},
   "outputs": [],
   "source": [
    "chat_completion = client.chat.completions.create(\n",
    "    messages = [\n",
    "        {\n",
    "            \"role\": \"user\",\n",
    "            \"content\": \"define sentiment analysis in a sentence.\"\n",
    "        }\n",
    "    ],\n",
    "    model = model_name\n",
    ")"
   ]
  },
  {
   "cell_type": "code",
   "execution_count": 7,
   "metadata": {},
   "outputs": [
    {
     "name": "stdout",
     "output_type": "stream",
     "text": [
      "Sentiment analysis is a natural language processing technique used to determine the emotional tone or attitude conveyed by a piece of text, such as a review, post, or comment, to classify it as positive, negative, or neutral.\n"
     ]
    }
   ],
   "source": [
    "print(chat_completion.choices[0].message.content)"
   ]
  },
  {
   "cell_type": "code",
   "execution_count": 9,
   "metadata": {},
   "outputs": [],
   "source": [
    "sentiment = client.chat.completions.create(\n",
    "    messages=[\n",
    "        {\n",
    "            \"role\": \"system\",\n",
    "            \"content\": \"You are an AI that analyzes the sentiment of YouTube comments and returns results in JSON format.\"\n",
    "        },\n",
    "        {\n",
    "            \"role\": \"user\",\n",
    "            \"content\": \"\"\"Analyze the sentiment of the following comments. \n",
    "        Classify each as Positive, Negative, or Neutral. \n",
    "        Then, provide:\n",
    "        1. The total count of each sentiment category.\n",
    "        2. The top 10 most frequently used sentiment-related words.\n",
    "\n",
    "        Return the output strictly in the following JSON format:\n",
    "\n",
    "        {\n",
    "            \"sentiment_counts\": {\n",
    "                \"positive\": <int>,\n",
    "                \"neutral\": <int>,\n",
    "                \"negative\": <int>\n",
    "            },\n",
    "            \"top_sentiment_words\": [\n",
    "                \"<word1>\", \"<word2>\", ..., \"<word10>\"\n",
    "            ]\n",
    "        }\n",
    "\n",
    "        Comments:\n",
    "        - \"I love this song, it's amazing!\"\n",
    "        - \"The video quality is so bad.\"\n",
    "        - \"Not bad, but could be better.\"\n",
    "        - \"The lyrics are very touching and emotional.\"\n",
    "        - \"This was a complete waste of time.\"\n",
    "        \"\"\"\n",
    "        }\n",
    "    ],\n",
    "    model=model_name,\n",
    "    temperature=0,\n",
    "    response_format={\"type\": \"json_object\"} \n",
    ")\n"
   ]
  },
  {
   "cell_type": "code",
   "execution_count": 21,
   "metadata": {},
   "outputs": [
    {
     "data": {
      "text/plain": [
       "'{\\n   \"sentiment_counts\": {\\n       \"positive\": 2,\\n       \"neutral\": 1,\\n       \"negative\": 2\\n   },\\n   \"top_sentiment_words\": [\\n       \"love\",\\n       \"amazing\",\\n       \"bad\",\\n       \"touching\",\\n       \"emotional\",\\n       \"waste\",\\n       \"time\",\\n       \"better\",\\n       \"not\",\\n       \"complete\"\\n   ]\\n}'"
      ]
     },
     "execution_count": 21,
     "metadata": {},
     "output_type": "execute_result"
    }
   ],
   "source": [
    "sentiment.choices[0].message.content"
   ]
  },
  {
   "cell_type": "code",
   "execution_count": 23,
   "metadata": {},
   "outputs": [
    {
     "name": "stdout",
     "output_type": "stream",
     "text": [
      "Sentiment Counts: {'positive': 2, 'neutral': 1, 'negative': 2}\n",
      "Top Sentiment Words: ['love', 'amazing', 'bad', 'touching', 'emotional', 'waste', 'time', 'better', 'not', 'complete']\n"
     ]
    }
   ],
   "source": [
    "import json\n",
    "\n",
    "response = sentiment.choices[0].message.content  \n",
    "\n",
    "response_dict = json.loads(response)\n",
    "\n",
    "sentiment_counts = response_dict[\"sentiment_counts\"]\n",
    "top_sentiment_words = response_dict[\"top_sentiment_words\"]\n",
    "\n",
    "print(\"Sentiment Counts:\", sentiment_counts)\n",
    "print(\"Top Sentiment Words:\", top_sentiment_words)\n"
   ]
  },
  {
   "cell_type": "code",
   "execution_count": null,
   "metadata": {},
   "outputs": [],
   "source": []
  },
  {
   "cell_type": "code",
   "execution_count": null,
   "metadata": {},
   "outputs": [],
   "source": []
  }
 ],
 "metadata": {
  "kernelspec": {
   "display_name": "Python 3",
   "language": "python",
   "name": "python3"
  },
  "language_info": {
   "codemirror_mode": {
    "name": "ipython",
    "version": 3
   },
   "file_extension": ".py",
   "mimetype": "text/x-python",
   "name": "python",
   "nbconvert_exporter": "python",
   "pygments_lexer": "ipython3",
   "version": "3.12.0"
  }
 },
 "nbformat": 4,
 "nbformat_minor": 2
}
